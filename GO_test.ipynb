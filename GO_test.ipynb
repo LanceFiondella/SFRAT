{
 "cells": [
  {
   "cell_type": "code",
   "execution_count": 18,
   "metadata": {},
   "outputs": [],
   "source": [
    "import pandas as pd\n",
    "import numpy as np\n",
    "import scipy.optimize\n",
    "\n",
    "from core.model import Model\n",
    "from core.rootFind import RootFind\n",
    "\n",
    "t = np.array([3,33,146,227,342,351,353,444,556,571,709,759,836,860,968,1056,1726,1846,1872,1986,2311,2366,2608,2676,3098,3278,3288,4434,5034,5049,5085,5089,5089,5097,5324,5389,5565,5623,6080,6380,6477,6740,7192,7447,7644,7837,7843,7922,8738,10089,10237,10258,10491,10625,10982,11175,11411,11442,11811,12559,12559,12791,13121,13486,14708,15251,15261,15277,15806,16185,16229,16358,17168,17458,17758,18287,18568,18728,19556,20567,21012,21308,23063,24127,25910,26770,27753,28460,28493,29361,30085,32408,35338,36799,37642,37654,37915,39715,40580,42015,42045,42188,42296,42296,45406,46653,47596,48296,49171,49416,50145,52042,52489,52875,53321,53443,54433,55381,56463,56485,56560,57042,62551,62651,62661,63732,64103,64893,71043,74364,75409,76057,81542,82702,84566,88682])\n",
    "n = len(t)\n",
    "tn = t[n-1]"
   ]
  },
  {
   "cell_type": "code",
   "execution_count": 22,
   "metadata": {},
   "outputs": [],
   "source": [
    "    def MVF(a, b,x):\n",
    "        return a * (1 - np.exp(-b * x))"
   ]
  },
  {
   "cell_type": "code",
   "execution_count": 25,
   "metadata": {},
   "outputs": [],
   "source": [
    "    def FI(a, b,x):\n",
    "        return a * b * np.exp(-b * x)"
   ]
  },
  {
   "cell_type": "code",
   "execution_count": 26,
   "metadata": {},
   "outputs": [],
   "source": [
    "    def lnL(a, b,x):\n",
    "        firstTerm = a*(1-np.exp(-b*tn))\n",
    "        lastTerm = b*np.sum(x)\n",
    "        return -firstTerm + n*np.log(a) + n*np.log(b) - lastTerm"
   ]
  },
  {
   "cell_type": "code",
   "execution_count": 27,
   "metadata": {},
   "outputs": [],
   "source": [
    "    def MTTF(a, b,x):\n",
    "        FailInt = FI(a, b, x)\n",
    "        return 1/FailInt"
   ]
  },
  {
   "cell_type": "code",
   "execution_count": 39,
   "metadata": {},
   "outputs": [],
   "source": [
    "    def MLEeq(b):\n",
    "        return ( n * tn * np.exp(-b * tn) ) / ( 1 - np.exp(-b * tn) ) + np.sum(t) - (n / b)"
   ]
  },
  {
   "cell_type": "code",
   "execution_count": 17,
   "metadata": {},
   "outputs": [],
   "source": [
    "    def calcaHatMLE( b):\n",
    "        return n / (1 - np.exp(-b * tn))"
   ]
  },
  {
   "cell_type": "code",
   "execution_count": 43,
   "metadata": {},
   "outputs": [
    {
     "name": "stdout",
     "output_type": "stream",
     "text": [
      "136.0\n",
      "0.00023535330743576675\n",
      "4248.931153316903\n",
      "-974.80653315492\n",
      "142.88091431619586\n",
      "0.0\n"
     ]
    }
   ],
   "source": [
    "print(MVF(142.88091431619586,0.00003420378406424962,88682))\n",
    "print(FI(142.88091431619586,0.00003420378406424962,88682))\n",
    "print(MTTF(142.88091431619586,0.00003420378406424962,88682))\n",
    "print(lnL(142.88091431619586,0.00003420378406424962,t))\n",
    "print(calcaHatMLE(0.00003420378406424962))\n",
    "print(MLEeq(0.00003420378406424962))"
   ]
  }
 ],
 "metadata": {
  "kernelspec": {
   "display_name": "Python 3",
   "language": "python",
   "name": "python3"
  },
  "language_info": {
   "codemirror_mode": {
    "name": "ipython",
    "version": 3
   },
   "file_extension": ".py",
   "mimetype": "text/x-python",
   "name": "python",
   "nbconvert_exporter": "python",
   "pygments_lexer": "ipython3",
   "version": "3.7.1"
  }
 },
 "nbformat": 4,
 "nbformat_minor": 2
}
