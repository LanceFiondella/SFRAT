{
 "cells": [
  {
   "cell_type": "code",
   "execution_count": null,
   "metadata": {
    "collapsed": true
   },
   "outputs": [],
   "source": []
  },
  {
   "cell_type": "code",
   "execution_count": null,
   "metadata": {
    "collapsed": true
   },
   "outputs": [],
   "source": [
    "    def MLEeq(phi):\n",
    "        \"\"\"\n",
    "        Represents MLE equation, used in root finding\n",
    "\n",
    "        Args:\n",
    "            phi: \n",
    "\n",
    "        Returns:\n",
    "            Value of MLE equation\n",
    "        \"\"\"\n",
    "        iVector = [i for i in range(self.n)]\n",
    "        rightTerm = (self.calcDMLE(phi) * (iVector * np.power(phi, iVector) * self.data.IF).sum())\n",
    "        leftTerm = np.sum(np.divide(iVector, phi))\n",
    "        return leftTerm - rightTerm"
   ]
  }
 ],
 "metadata": {
  "kernelspec": {
   "display_name": "Python 3",
   "language": "python",
   "name": "python3"
  },
  "language_info": {
   "codemirror_mode": {
    "name": "ipython",
    "version": 3
   },
   "file_extension": ".py",
   "mimetype": "text/x-python",
   "name": "python",
   "nbconvert_exporter": "python",
   "pygments_lexer": "ipython3",
   "version": "3.7.1"
  }
 },
 "nbformat": 4,
 "nbformat_minor": 2
}
