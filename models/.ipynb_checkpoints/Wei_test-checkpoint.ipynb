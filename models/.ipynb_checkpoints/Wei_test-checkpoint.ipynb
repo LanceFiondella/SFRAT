{
 "cells": [
  {
   "cell_type": "code",
   "execution_count": 2,
   "metadata": {
    "collapsed": true
   },
   "outputs": [],
   "source": [
    "import numpy as np\n",
    "import pandas as pd\n",
    "FT = np.array([3,33,146,227,342,351,353,444,556,571,709,759,836,860,968,1056,1726,1846,1872,1986,2311,2366,2608,2676,3098,3278,3288,4434,5034,5049,5085,5089,5089,5097,5324,5389,5565,5623,6080,6380,6477,6740,7192,7447,7644,7837,7843,7922,8738,10089,10237,10258,10491,10625,10982,11175,11411,11442,11811,12559,12559,12791,13121,13486,14708,15251,15261,15277,15806,16185,16229,16358,17168,17458,17758,18287,18568,18728,19556,20567,21012,21308,23063,24127,25910,26770,27753,28460,28493,29361,30085,32408,35338,36799,37642,37654,37915,39715,40580,42015,42045,42188,42296,42296,45406,46653,47596,48296,49171,49416,50145,52042,52489,52875,53321,53443,54433,55381,56463,56485,56560,57042,62551,62651,62661,63732,64103,64893,71043,74364,75409,76057,81542,82702,84566,88682])\n",
    "n = len(FT)\n",
    "tn = FT[n-1]"
   ]
  },
  {
   "cell_type": "code",
   "execution_count": 6,
   "metadata": {
    "collapsed": true
   },
   "outputs": [],
   "source": [
    "def calcMLEs(x):\n",
    "    a, b, c = x \n",
    "    aMLE = (n/a) - (1 - np.exp(-b * np.power(tn,c)))\n",
    "    bMLE = -a*np.power(tn,c)*np.exp(-b *np.power(tn,c))+ sum((1-b*np.power(FT,c))/(b))\n",
    "    cMLE = -a*b*np.power(tn,c)*np.log(tn)*np.exp(-b*np.power(tn,c)) + (n/c) + sum(np.log(FT)-b*np.log(FT)*np.power(FT,c))\n",
    "    return [aMLE, bMLE, cMLE]"
   ]
  },
  {
   "cell_type": "code",
   "execution_count": 7,
   "metadata": {
    "collapsed": false
   },
   "outputs": [
    {
     "data": {
      "text/plain": [
       "[1.32419099574399e-07, -0.05475204883259721, -0.0003222198033085988]"
      ]
     },
     "execution_count": 7,
     "metadata": {},
     "output_type": "execute_result"
    }
   ],
   "source": [
    "calcMLEs([172.526,0.000696057,0.676739])"
   ]
  },
  {
   "cell_type": "code",
   "execution_count": 8,
   "metadata": {
    "collapsed": false
   },
   "outputs": [
    {
     "name": "stdout",
     "output_type": "stream",
     "text": [
      "    fjac: array([[-9.62165076e-06, -9.99969185e-01, -7.85045589e-03],\n",
      "       [ 4.17586348e-03, -7.85042762e-03,  9.99960466e-01],\n",
      "       [ 9.99991281e-01,  2.31611616e-05, -4.17581033e-03]])\n",
      "     fun: array([-2.22044605e-16,  7.27595761e-11, -2.27373675e-13])\n",
      " message: 'The solution converged.'\n",
      "    nfev: 2677\n",
      "     qtf: array([-1.35328820e-09, -1.03968740e-11,  2.21796032e-14])\n",
      "       r: array([4.76072809e+02, 9.98394383e+07, 6.73251379e+05, 1.17298335e+05,\n",
      "       4.86536738e+02, 7.08160982e-01])\n",
      "  status: 1\n",
      " success: True\n",
      "       x: array([1.72526239e+02, 6.96057225e-04, 6.76738716e-01])\n"
     ]
    }
   ],
   "source": [
    "from scipy import optimize\n",
    "sol = optimize.root(calcMLEs,[n,n/sum(FT),1.0], options={'maxfev':10000})\n",
    "print(sol)"
   ]
  },
  {
   "cell_type": "code",
   "execution_count": 10,
   "metadata": {
    "collapsed": true
   },
   "outputs": [],
   "source": [
    "    def FI(a, b, c, t):\n",
    "        \"\"\"\n",
    "        Failure Intensity\n",
    "        \n",
    "        \"\"\"\n",
    "        return a * b * c * np.exp(-b * np.power(t, c)) * np.power(t, -1 +c)"
   ]
  },
  {
   "cell_type": "code",
   "execution_count": 11,
   "metadata": {
    "collapsed": true
   },
   "outputs": [],
   "source": [
    "    def MVF(a, b, c, t):\n",
    "        \"\"\"\n",
    "        Mean Value Function. Used in Cumulative failures\n",
    "        and estimate remaining faults\n",
    "        \"\"\"\n",
    "        return a * (1 - np.exp(-b * np.power(t, c)))"
   ]
  },
  {
   "cell_type": "code",
   "execution_count": 20,
   "metadata": {
    "collapsed": true
   },
   "outputs": [],
   "source": [
    "    def lnL(a , b, c, t):\n",
    "        \"\"\"\n",
    "        Log likelihood equation. Used to calculate AIC\n",
    "        \n",
    "        \"\"\"\n",
    "        term1 = MVF(a, b, c, t)\n",
    "        term2 = sum(np.log(FI(a, b, c, t)))\n",
    "        return -term1 + term2"
   ]
  },
  {
   "cell_type": "code",
   "execution_count": 21,
   "metadata": {
    "collapsed": false
   },
   "outputs": [
    {
     "ename": "TypeError",
     "evalue": "list indices must be integers or slices, not list",
     "output_type": "error",
     "traceback": [
      "\u001b[1;31m---------------------------------------------------------------------------\u001b[0m",
      "\u001b[1;31mTypeError\u001b[0m                                 Traceback (most recent call last)",
      "\u001b[1;32m<ipython-input-21-a26f48c2c445>\u001b[0m in \u001b[0;36m<module>\u001b[1;34m\u001b[0m\n\u001b[1;32m----> 1\u001b[1;33m \u001b[0mlnL\u001b[0m\u001b[1;33m(\u001b[0m\u001b[1;36m172.526\u001b[0m\u001b[1;33m,\u001b[0m\u001b[1;36m0.000696057\u001b[0m\u001b[1;33m,\u001b[0m\u001b[1;36m0.676739\u001b[0m\u001b[1;33m,\u001b[0m\u001b[1;33m[\u001b[0m\u001b[0mFT\u001b[0m\u001b[1;33m]\u001b[0m\u001b[1;33m)\u001b[0m\u001b[1;33m\u001b[0m\u001b[1;33m\u001b[0m\u001b[0m\n\u001b[0m",
      "\u001b[1;32m<ipython-input-20-92271d1b9877>\u001b[0m in \u001b[0;36mlnL\u001b[1;34m(a, b, c, t)\u001b[0m\n\u001b[0;32m      6\u001b[0m     \u001b[0mVector\u001b[0m \u001b[1;33m=\u001b[0m \u001b[1;33m[\u001b[0m\u001b[0mi\u001b[0m \u001b[1;32mfor\u001b[0m \u001b[0mi\u001b[0m \u001b[1;32min\u001b[0m \u001b[0mrange\u001b[0m\u001b[1;33m(\u001b[0m\u001b[0mn\u001b[0m\u001b[1;33m)\u001b[0m\u001b[1;33m]\u001b[0m\u001b[1;33m\u001b[0m\u001b[1;33m\u001b[0m\u001b[0m\n\u001b[0;32m      7\u001b[0m     \u001b[0mterm1\u001b[0m \u001b[1;33m=\u001b[0m \u001b[0mMVF\u001b[0m\u001b[1;33m(\u001b[0m\u001b[0ma\u001b[0m\u001b[1;33m,\u001b[0m \u001b[0mb\u001b[0m\u001b[1;33m,\u001b[0m \u001b[0mc\u001b[0m\u001b[1;33m,\u001b[0m \u001b[0mt\u001b[0m\u001b[1;33m)\u001b[0m\u001b[1;33m\u001b[0m\u001b[1;33m\u001b[0m\u001b[0m\n\u001b[1;32m----> 8\u001b[1;33m     \u001b[0mterm2\u001b[0m \u001b[1;33m=\u001b[0m \u001b[0mnp\u001b[0m\u001b[1;33m.\u001b[0m\u001b[0mlog\u001b[0m\u001b[1;33m(\u001b[0m\u001b[0mFI\u001b[0m\u001b[1;33m(\u001b[0m\u001b[0ma\u001b[0m\u001b[1;33m,\u001b[0m \u001b[0mb\u001b[0m\u001b[1;33m,\u001b[0m \u001b[0mc\u001b[0m\u001b[1;33m,\u001b[0m \u001b[0mt\u001b[0m\u001b[1;33m[\u001b[0m\u001b[0mVector\u001b[0m\u001b[1;33m]\u001b[0m\u001b[1;33m)\u001b[0m\u001b[1;33m)\u001b[0m\u001b[1;33m.\u001b[0m\u001b[0msum\u001b[0m\u001b[1;33m(\u001b[0m\u001b[1;33m)\u001b[0m\u001b[1;33m\u001b[0m\u001b[1;33m\u001b[0m\u001b[0m\n\u001b[0m\u001b[0;32m      9\u001b[0m     \u001b[1;32mreturn\u001b[0m \u001b[1;33m-\u001b[0m\u001b[0mterm1\u001b[0m \u001b[1;33m+\u001b[0m \u001b[0mterm2\u001b[0m\u001b[1;33m\u001b[0m\u001b[1;33m\u001b[0m\u001b[0m\n",
      "\u001b[1;31mTypeError\u001b[0m: list indices must be integers or slices, not list"
     ]
    }
   ],
   "source": [
    "lnL(172.526,0.000696057,0.676739,[FT])"
   ]
  },
  {
   "cell_type": "code",
   "execution_count": null,
   "metadata": {
    "collapsed": true
   },
   "outputs": [],
   "source": []
  }
 ],
 "metadata": {
  "kernelspec": {
   "display_name": "Python 3",
   "language": "python",
   "name": "python3"
  },
  "language_info": {
   "codemirror_mode": {
    "name": "ipython",
    "version": 3
   },
   "file_extension": ".py",
   "mimetype": "text/x-python",
   "name": "python",
   "nbconvert_exporter": "python",
   "pygments_lexer": "ipython3",
   "version": "3.6.8"
  }
 },
 "nbformat": 4,
 "nbformat_minor": 2
}
