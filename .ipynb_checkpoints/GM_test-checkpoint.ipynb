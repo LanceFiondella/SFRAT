{
 "cells": [
  {
   "cell_type": "code",
   "execution_count": 1,
   "metadata": {},
   "outputs": [],
   "source": [
    "import numpy as np\n",
    "IF = np.array([3,30,113,81,115,9,2,91,112,15,138,50,77,24,108,88,670,120,26,114,325,55,242,68,422,180,10,1146,600,15,36,4,0,8,227,65,176,58,457,300,97,263,452,255,197,193,6,79,816,1351,148,21,233,134,357,193,236,31,369,748,0,232,330,365,1222,543,10,16,529,379,44,129,810,290,300,529,281,160,828,1011,445,296,1755,1064,1783,860,983,707,33,868,724,2323,2930,1461,843,12,261,1800,865,1435,30,143,108,0,3110,1247,943,700,875,245,729,1897,447,386,446,122,990,948,1082,22,75,482,5509,100,10,1071,371,790,6150,3321,1045,648,5485,1160,1864,4116])\n",
    "n =  len(IF)"
   ]
  },
  {
   "cell_type": "code",
   "execution_count": 2,
   "metadata": {},
   "outputs": [],
   "source": [
    "    def lnL(DHat, phi):\n",
    "        firstTerm = n*np.log(DHat)\n",
    "        secondTerm = np.sum(np.array([(i-1)*np.log(phi) for i in range(1,1+n)],np.float))\n",
    "        thirdTerm = np.sum(np.array([(np.power(phi,i)/phi)*IF[i-1] for i in range(1,1+n)],np.float))\n",
    "        return firstTerm + secondTerm - (DHat * thirdTerm)"
   ]
  },
  {
   "cell_type": "code",
   "execution_count": 3,
   "metadata": {},
   "outputs": [
    {
     "data": {
      "text/plain": [
       "-966.5170871255286"
      ]
     },
     "execution_count": 3,
     "metadata": {},
     "output_type": "execute_result"
    }
   ],
   "source": [
    "lnL(0.010630373249446691,0.9771147717483478)"
   ]
  },
  {
   "cell_type": "code",
   "execution_count": 9,
   "metadata": {},
   "outputs": [],
   "source": [
    "    def calcDMLE(phi): \n",
    "        denom = np.sum(np.array([np.power(phi,i)*IF[i-1] for i in range(1,1+n)],np.float))\n",
    "        return (phi*n)/denom"
   ]
  },
  {
   "cell_type": "code",
   "execution_count": 10,
   "metadata": {},
   "outputs": [
    {
     "data": {
      "text/plain": [
       "0.010630373249446688"
      ]
     },
     "execution_count": 10,
     "metadata": {},
     "output_type": "execute_result"
    }
   ],
   "source": [
    "calcDMLE(0.9771147717483478)"
   ]
  },
  {
   "cell_type": "code",
   "execution_count": 7,
   "metadata": {},
   "outputs": [],
   "source": [
    "   def MLEeq( phi): #Verified\n",
    "        firstTerm = np.sum(np.array([(i-1)/phi for i in range(1,1+n)],np.float))\n",
    "        secondTerm = np.sum(np.array([(i-1)*(np.power(phi, i)/(np.power(phi, 2)))*IF[i-1] for i in range(1,1+n)], np.float))\n",
    "        DMLE = (phi*n)/(np.sum(np.array([np.power(phi,i)*IF[i-1] for i in range(1,1+n)],np.float)))\n",
    "        return firstTerm - (DMLE*secondTerm)"
   ]
  },
  {
   "cell_type": "code",
   "execution_count": 8,
   "metadata": {},
   "outputs": [
    {
     "data": {
      "text/plain": [
       "-1.9826984498649836e-10"
      ]
     },
     "execution_count": 8,
     "metadata": {},
     "output_type": "execute_result"
    }
   ],
   "source": [
    "MLEeq(0.9771147717483478)"
   ]
  }
 ],
 "metadata": {
  "kernelspec": {
   "display_name": "Python 3",
   "language": "python",
   "name": "python3"
  },
  "language_info": {
   "codemirror_mode": {
    "name": "ipython",
    "version": 3
   },
   "file_extension": ".py",
   "mimetype": "text/x-python",
   "name": "python",
   "nbconvert_exporter": "python",
   "pygments_lexer": "ipython3",
   "version": "3.7.1"
  }
 },
 "nbformat": 4,
 "nbformat_minor": 2
}
